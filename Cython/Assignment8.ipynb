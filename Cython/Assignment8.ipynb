{
 "cells": [
  {
   "cell_type": "code",
   "execution_count": 1,
   "id": "1975f57b-82b3-4bf1-9965-c98b64b2a055",
   "metadata": {},
   "outputs": [],
   "source": [
    "def factorial(N):\n",
    "    fact = []\n",
    "    fact.append(1)\n",
    "    fact.append(1)\n",
    "    for i in range(2, N+1):\n",
    "        fact.append(i*fact[i-1])\n",
    "    return fact[N]"
   ]
  },
  {
   "cell_type": "code",
   "execution_count": 2,
   "id": "c353e865-85ed-4dc0-887e-d88ba76d7520",
   "metadata": {},
   "outputs": [
    {
     "name": "stdout",
     "output_type": "stream",
     "text": [
      "3.5 µs ± 76.7 ns per loop (mean ± std. dev. of 7 runs, 100,000 loops each)\n"
     ]
    }
   ],
   "source": [
    "%timeit factorial(40)"
   ]
  },
  {
   "cell_type": "code",
   "execution_count": 3,
   "id": "aaac33bf-eadd-440b-8699-8c6658c3f449",
   "metadata": {},
   "outputs": [],
   "source": [
    "%load_ext Cython"
   ]
  },
  {
   "cell_type": "code",
   "execution_count": 4,
   "id": "c7dca385-fac3-41ab-a8ac-75e661e969a8",
   "metadata": {},
   "outputs": [],
   "source": [
    "%%cython\n",
    "import cython\n",
    "import numpy as np\n",
    "cimport numpy as np\n",
    "@cython.boundscheck(False)\n",
    "@cython.cdivision(True)\n",
    "def c_factorial(int N):\n",
    "    cdef int[100000] fact\n",
    "    cdef int i\n",
    "    fact[0] = 1\n",
    "    fact[1] = 1\n",
    "    for i in range(2, N+1):\n",
    "        fact[i] = i*fact[i-1]\n",
    "    return fact[N]"
   ]
  },
  {
   "cell_type": "code",
   "execution_count": 5,
   "id": "f31aa5c4-e234-43b0-9adb-c92bd5ee9ebc",
   "metadata": {},
   "outputs": [
    {
     "name": "stdout",
     "output_type": "stream",
     "text": [
      "63.7 ns ± 2.54 ns per loop (mean ± std. dev. of 7 runs, 10,000,000 loops each)\n",
      "313 ns ± 7.33 ns per loop (mean ± std. dev. of 7 runs, 1,000,000 loops each)\n"
     ]
    }
   ],
   "source": [
    "%timeit c_factorial(40)\n",
    "%timeit np.math.factorial(40)"
   ]
  },
  {
   "cell_type": "markdown",
   "id": "ff2ec8be-a00f-46fb-b385-1233031d6f77",
   "metadata": {},
   "source": [
    "### Optimizing \"System of linear equation\" solver"
   ]
  },
  {
   "cell_type": "code",
   "execution_count": 6,
   "id": "2da5167b-4470-48b0-b9e7-f04032817727",
   "metadata": {},
   "outputs": [
    {
     "name": "stdout",
     "output_type": "stream",
     "text": [
      "The Cython extension is already loaded. To reload it, use:\n",
      "  %reload_ext Cython\n"
     ]
    }
   ],
   "source": [
    "%load_ext Cython"
   ]
  },
  {
   "cell_type": "code",
   "execution_count": 13,
   "id": "d886028d-b074-45e6-961d-d53b8474096b",
   "metadata": {},
   "outputs": [],
   "source": [
    "%%cython \n",
    "import cython\n",
    "@cython.cdivision(True)\n",
    "@cython.boundscheck(False)\n",
    "cdef C_Partial_Pivot(list A,list b,int k):\n",
    "    cdef complex big = A[k][k]\n",
    "    cdef int index = k\n",
    "    cdef int i, j, m, n\n",
    "    cdef complex temp\n",
    "    m = len(A)\n",
    "    n = len(A[0])\n",
    "    for i in range(k+1, m):\n",
    "        if (abs(A[i][k]) > abs(big)):\n",
    "            big =  A[i][k]\n",
    "            index = i\n",
    "    if (index != k):\n",
    "        for j in range(k, n):\n",
    "            temp= A[k][j]\n",
    "            A[k][j] = A[index][j]\n",
    "            A[index][j] = temp\n",
    "        # swap element of 'b' vector\n",
    "        temp = b[k]\n",
    "        b[k] = b[index]\n",
    "        b[index] = temp\n",
    "\n",
    "        \n",
    "@cython.cdivision(True)\n",
    "@cython.boundscheck(False)\n",
    "cdef C_REF(list A, list b):\n",
    "    cdef int m = len(A)  # m is no. of rows.\n",
    "    cdef int n = len(A[0])  # n is no. of columns.\n",
    "    cdef int i, j, k \n",
    "    cdef complex factor\n",
    "    for k in range(n):\n",
    "        # Pivoting the element.\n",
    "        C_Partial_Pivot(A, b, k)\n",
    "        for i in range(k+1, m):\n",
    "            factor = A[i][k]/A[k][k]\n",
    "            b[i] = b[i] - factor*b[k]\n",
    "            for j in range(k, n):\n",
    "                A[i][j] = A[i][j] - factor*A[k][j]\n",
    "\n",
    "\n",
    "@cython.cdivision(True)\n",
    "@cython.boundscheck(False)\n",
    "def C_solve(list A, list b):\n",
    "    cdef int m = len(A)  # m is no. of rows (equivalent to no. of equation)\n",
    "    cdef int n = len(A[0])  # n is no. of columns (equivalent to no. of variable.)\n",
    "    cdef int NumOfNonZerosRow = 0\n",
    "    cdef int i, j, cnt\n",
    "    cdef int row, col\n",
    "    # cdef complex add\n",
    "    if (m < n):\n",
    "        # We have less no. of equations than number of variable.\n",
    "        return \"Insufficient number of linearly independent equations, So there are infinite solutions\"\n",
    "    # Convert coefficient matrix to Row Echelon Form\n",
    "    C_REF(A,b)\n",
    "    # now count the number rows in Row echelon form of coefficient matrix with all zero's element.\n",
    "    for i in range(m):\n",
    "        for j in range(n):\n",
    "            cnt = 0  # no. of non zeros element in a row.\n",
    "            if (A[i][j] != 0):\n",
    "                cnt = 1\n",
    "                break\n",
    "        if (cnt == 1):  # there is atleast one non zero element in that row\n",
    "            NumOfNonZerosRow += 1\n",
    "            continue\n",
    "        if (cnt == 0):  # all element is zero\n",
    "            if (b[i] != 0):  # It means that\n",
    "                return \"Inconsistent system, Hence No Solution\"\n",
    "    # Num of non zeros row is the number of linearly independent equations in given system of equations\n",
    "    if (NumOfNonZerosRow < n):\n",
    "        return \"Insufficient number of linearly independent equations, So there are infinite solutions\"\n",
    "\n",
    "    # Note: Number of non zeros row can't be less than n provided(m>=n)\n",
    "\n",
    "    # Back Substitution.\n",
    "    if (NumOfNonZerosRow == n):\n",
    "        x = []  # x is final solution vector\n",
    "        # x.clear()\n",
    "        for i in range(n):\n",
    "            x.append(0)\n",
    "        for row in range(n-1, -1, -1):\n",
    "            add = 0\n",
    "            for col in range(row+1, n):\n",
    "                add += A[row][col]*x[col]\n",
    "            x[row] = (b[row]-add)/A[row][row]\n",
    "        return x\n",
    "    \n"
   ]
  },
  {
   "cell_type": "code",
   "execution_count": 8,
   "id": "03250710-5172-4275-9ef2-e15a2af4d01f",
   "metadata": {},
   "outputs": [],
   "source": [
    "import numpy as np\n",
    "n = 10\n",
    "A = np.random.rand(n, n)\n",
    "b = np.random.rand(n)"
   ]
  },
  {
   "cell_type": "code",
   "execution_count": 14,
   "id": "68481bf2-660d-4cc8-a0c3-0bb884f0d7ef",
   "metadata": {},
   "outputs": [
    {
     "name": "stdout",
     "output_type": "stream",
     "text": [
      "34 µs ± 2.01 µs per loop (mean ± std. dev. of 7 runs, 10,000 loops each)\n"
     ]
    }
   ],
   "source": [
    "%timeit C_solve(A.tolist(),b.tolist())"
   ]
  },
  {
   "cell_type": "code",
   "execution_count": 15,
   "id": "5ccddeda-c8a9-476a-85d2-283d4d7206bd",
   "metadata": {},
   "outputs": [
    {
     "name": "stdout",
     "output_type": "stream",
     "text": [
      "17.6 µs ± 320 ns per loop (mean ± std. dev. of 7 runs, 100,000 loops each)\n"
     ]
    }
   ],
   "source": [
    "%timeit np.linalg.solve(A,b)"
   ]
  },
  {
   "cell_type": "markdown",
   "id": "a1f877f2-79d1-4f19-bfc5-86fb018431a4",
   "metadata": {},
   "source": [
    "### Spice Solver"
   ]
  },
  {
   "cell_type": "code",
   "execution_count": 33,
   "id": "eaf80dec-a72e-41ca-b7a9-8d54ee594866",
   "metadata": {},
   "outputs": [],
   "source": [
    "from math import pi, sin, cos\n",
    "import cmath \n",
    "import time\n",
    "def AC_MNA(content_of_netlist, start, end):\n",
    "\n",
    "    freq = set()\n",
    "    f=0\n",
    "    for line in content_of_netlist[end+1:]:\n",
    "        if(line.split()[0]=='.ac'):\n",
    "            f = float(line.split()[2])\n",
    "            freq.add(line.split()[2]) #putting frequencies in set \"freq\"       \n",
    "        if(len(freq)>1):\n",
    "            return \"Circiut Contains more than one frequency source.\"\n",
    "    w = 2*pi*f\n",
    "    # Counting number of nodes and Voltage source.\n",
    "    st = set()\n",
    "    n = 0\n",
    "    Nv = 0\n",
    "    for line in content_of_netlist[start+1:end]:\n",
    "        if(len(line.split())==0): # when line is blank\n",
    "            continue\n",
    "        elif(line[0]=='#'): # when line is comment\n",
    "            continue\n",
    "        else:\n",
    "            st.add(line.split()[1])\n",
    "            st.add(line.split()[2])\n",
    "            if(line[0]=='V'):\n",
    "                Nv+=1\n",
    "    n = len(st)-1 # no. of nodes\n",
    "    size = n + Nv # size of conductance matrix.\n",
    "    A = [] # conductance matrix\n",
    "    B = [] \n",
    "    #initialising conductance matrix (A) and B vector.\n",
    "    for row in range(size):\n",
    "        lt = []\n",
    "        for col in range(size):\n",
    "            lt.append(0)\n",
    "        A.append(lt)\n",
    "        B.append(0)\n",
    "    a, b = 0, 0\n",
    "    for line in content_of_netlist[start+1:end]:\n",
    "        if(len(line.split())==0):\n",
    "            continue\n",
    "        discription = [word for word in line.split('#')[0].split()]\n",
    "        # Operations to store node number in a and b. \n",
    "        if(discription[1]=='GND'):\n",
    "            discription[1]='n0'\n",
    "        elif(discription[2]=='GND'):\n",
    "            discription[2]='n0'\n",
    "        a, b = discription[1], discription[2] # a and b store nodes information\n",
    "        if(a[0]=='n'): # when nodes are in form of n1, n2, .....\n",
    "            a = int(a[1:])\n",
    "        if(b[0]=='n'):\n",
    "             b = int(b[1:])\n",
    "        a, b = int(a), int(b)  # here finally a and b stores node number.\n",
    "\n",
    "        if(len(line.split())==0): # when line is blank\n",
    "            continue\n",
    "        elif(line[0]=='#'): # when line start with comment\n",
    "            continue\n",
    "\n",
    "        elif(line[0]=='R'):\n",
    "            if(a==0 and b!=0):\n",
    "                A[b-1][b-1] += 1/float(discription[-1])\n",
    "            elif(b==0 and a!=0):\n",
    "                A[a-1][a-1] += 1/float(discription[-1])\n",
    "            else:\n",
    "                A[b-1][b-1] += 1/float(discription[-1])\n",
    "                A[a-1][a-1] += 1/float(discription[-1])\n",
    "                A[a-1][b-1] -= 1/float(discription[-1])\n",
    "                A[b-1][a-1] -= 1/float(discription[-1])\n",
    "            continue\n",
    "        \n",
    "        elif(line[0]==\"L\"):\n",
    "            Z = complex(0, float(discription[-1])*w)\n",
    "\n",
    "            if(a==0 and b!=0):\n",
    "                A[b-1][b-1] += 1/Z\n",
    "            elif(b==0 and a!=0):\n",
    "                A[a-1][a-1] += 1/Z\n",
    "            else:\n",
    "                A[b-1][b-1] += 1/Z\n",
    "                A[a-1][a-1] += 1/Z\n",
    "                A[a-1][b-1] -= 1/Z\n",
    "                A[b-1][a-1] -= 1/Z\n",
    "            continue\n",
    "        elif(line[0]==\"C\"):\n",
    "            Z = complex(0, 1/(float(discription[-1])*w))\n",
    "\n",
    "            if(a==0 and b!=0):\n",
    "                A[b-1][b-1] += 1/Z\n",
    "            elif(b==0 and a!=0):\n",
    "                A[a-1][a-1] += 1/Z\n",
    "            else:\n",
    "                A[b-1][b-1] += 1/Z\n",
    "                A[a-1][a-1] += 1/Z\n",
    "                A[a-1][b-1] -= 1/Z\n",
    "                A[b-1][a-1] -= 1/Z\n",
    "            continue\n",
    "        elif(line[0]=='V'):\n",
    "            x = n + int(discription[0][1:])-1\n",
    "            V_mag = float(discription[-2])\n",
    "            phase = float(discription[-1])\n",
    "            B[x] = complex(V_mag*cos(phase*(pi/180)), V_mag*sin(phase*(pi/180))) # updating B vector with value of Voltage of source. \n",
    "            if(a==0 and b!=0):\n",
    "                A[x][b-1] = -1\n",
    "                A[b-1][x] = -1\n",
    "            elif(b==0 and a!=0):\n",
    "                A[x][a-1] = 1\n",
    "                A[a-1][x] = 1\n",
    "            else:\n",
    "                A[x][b-1] = -1\n",
    "                A[x][a-1] = 1\n",
    "                A[a-1][x] = 1\n",
    "                A[b-1][x] = -1\n",
    "            continue\n",
    "        elif(line[0]=='I'):\n",
    "            I_mag = float(discription[-2])\n",
    "            phase = float(discription[-1])\n",
    "            I =  complex(I_mag*cos(phase*(pi/180)), I_mag*sin(phase*(pi/180)))\n",
    "            if(a==0 and b!=0):\n",
    "                B[b-1] += I\n",
    "            elif(b==0 and a!=0):\n",
    "                B[a-1] -=I\n",
    "            else:\n",
    "                B[a-1] -=I\n",
    "                B[b-1] += I\n",
    "    x = C_solve(A, B)\n",
    "    for i in range(n):\n",
    "        print(f\"Node {i+1} Voltage : magnitude = {abs(x[i])} V, phase = {cmath.phase(x[i])*(180/pi)} degrees\")\n",
    "    for i in range(Nv):\n",
    "        print(f\"Current through Voltage source V{i+1} : magnitude = { abs(x[n+i])} A, phase =  {cmath.phase(x[n+i])*(180/pi)} degrees\")\n",
    "    # print(f\"\\n\\n\\nTime to solve the circuit {t2-t1}\")\n",
    "    return \"\"   "
   ]
  },
  {
   "cell_type": "code",
   "execution_count": 34,
   "id": "40ab5f75-dae0-47fc-b0ec-10430e7b9ecf",
   "metadata": {},
   "outputs": [],
   "source": [
    "def Solve_Circuit(filename):\n",
    "    with open(filename, 'r') as netlist:\n",
    "        content_of_netlist = netlist.readlines()\n",
    "        start, end = 0, 0\n",
    "        for i in range(len(content_of_netlist)):\n",
    "            if(len(content_of_netlist[i].split())==0):\n",
    "                continue\n",
    "            if(content_of_netlist[i].split()[0] == '.circuit'):\n",
    "                start = i\n",
    "            elif(content_of_netlist[i].split()[0]=='.end'):\n",
    "                end = i\n",
    "        if(end < start):\n",
    "            return \"Invalid Circuit Declaration\"\n",
    "       #Check dc or ac source(s).\n",
    "        dc = False\n",
    "        ac = False\n",
    "        for lines in content_of_netlist:\n",
    "            if(lines[0]=='V' or lines[0]=='I'):\n",
    "                if(lines.split()[3]=='dc'):\n",
    "                    dc = True\n",
    "                elif(lines.split()[3]=='ac'):\n",
    "                    ac = True\n",
    "        if(ac and dc):\n",
    "            return \"Given circuit has more than one frequency.(since frequency of DC source is zero)\"\n",
    "        elif(dc==True):\n",
    "            return DC_MNA(content_of_netlist, start, end)\n",
    "        elif(ac==True):\n",
    "            return AC_MNA(content_of_netlist, start, end)\n"
   ]
  },
  {
   "cell_type": "code",
   "execution_count": 35,
   "id": "eb0a91ac-8e32-46b8-894b-0106e253026e",
   "metadata": {},
   "outputs": [
    {
     "name": "stdout",
     "output_type": "stream",
     "text": [
      "Node 1 Voltage : magnitude = 4.0 V, phase = 29.999999999999996 degrees\n",
      "Node 2 Voltage : magnitude = 6.000000000000001 V, phase = 59.99999999999999 degrees\n",
      "Node 3 Voltage : magnitude = 168.4333450781387 V, phase = 39.27476850443678 degrees\n",
      "Node 4 Voltage : magnitude = 91.96228125341496 V, phase = 158.0780671886268 degrees\n",
      "Node 5 Voltage : magnitude = 96.14432133702611 V, phase = 152.5410015060631 degrees\n",
      "Node 6 Voltage : magnitude = 8.9239583734777 V, phase = 38.33806605740891 degrees\n",
      "Node 7 Voltage : magnitude = 533.034650816758 V, phase = 21.99380938872583 degrees\n",
      "Current through Voltage source V1 : magnitude = 2.090577954005548 A, phase =  153.4094702189483 degrees\n",
      "Current through Voltage source V2 : magnitude = 5.1277700946880405 A, phase =  -118.8825666749316 degrees\n",
      "Current through Voltage source V3 : magnitude = 2.002684775001888 A, phase =  157.20350346613174 degrees\n",
      "Current through Voltage source V4 : magnitude = 20.250017332467316 A, phase =  21.54500746452838 degrees\n",
      "\n"
     ]
    }
   ],
   "source": [
    "t1 = time.time()\n",
    "print(Solve_Circuit(\"AC1.netlist\"))\n",
    "t2 = time.time()"
   ]
  },
  {
   "cell_type": "code",
   "execution_count": 38,
   "id": "453c3e01-cdf5-476a-9bb3-f4c8231738ef",
   "metadata": {},
   "outputs": [
    {
     "name": "stdout",
     "output_type": "stream",
     "text": [
      "Time to solve the circuit 0.0008935928344726562\n"
     ]
    }
   ],
   "source": [
    "print(f\"Time to solve the circuit {t2-t1}\")"
   ]
  }
 ],
 "metadata": {
  "kernelspec": {
   "display_name": "Python 3 (ipykernel)",
   "language": "python",
   "name": "python3"
  },
  "language_info": {
   "codemirror_mode": {
    "name": "ipython",
    "version": 3
   },
   "file_extension": ".py",
   "mimetype": "text/x-python",
   "name": "python",
   "nbconvert_exporter": "python",
   "pygments_lexer": "ipython3",
   "version": "3.10.5"
  }
 },
 "nbformat": 4,
 "nbformat_minor": 5
}
