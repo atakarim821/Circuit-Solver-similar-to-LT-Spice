{
 "cells": [
  {
   "cell_type": "markdown",
   "metadata": {},
   "source": [
    "# Solving System of Linear Equations\n",
    "In this problem, our aim is to find the solution of given set of linear equations."
   ]
  },
  {
   "cell_type": "markdown",
   "metadata": {},
   "source": [
    "**Pivoting Technique**"
   ]
  },
  {
   "cell_type": "code",
   "execution_count": 10,
   "metadata": {},
   "outputs": [],
   "source": [
    "def Partial_Pivot(A, b, k):\n",
    "    big = A[k][k]\n",
    "    index = k\n",
    "    for i in range(k+1, len(A)):\n",
    "        if (abs(A[i][k]) > abs(big)):\n",
    "            big =  A[i][k]\n",
    "            index = i\n",
    "    if (index != k):\n",
    "        # swap row number \"index\" with row number \"k\"\n",
    "        for i in range(k, len(A[0])):\n",
    "            temp = A[k][i]\n",
    "            A[k][i] = A[index][i]\n",
    "            A[index][i] = temp\n",
    "        # swap element of 'b' vector\n",
    "        temp = b[k]\n",
    "        b[k] = b[index]\n",
    "        b[index] = temp\n"
   ]
  },
  {
   "cell_type": "markdown",
   "metadata": {},
   "source": [
    "**Function to Convert given mxn matrix to Reduced Echelon Form (REF)**"
   ]
  },
  {
   "cell_type": "code",
   "execution_count": 11,
   "metadata": {},
   "outputs": [],
   "source": [
    "def REF(A, b):\n",
    "    m = len(A)  # m is no. of rows.\n",
    "    n = len(A[0])  # n is no. of columns.\n",
    "    for k in range(n):\n",
    "        # Pivoting the element.\n",
    "        Partial_Pivot(A, b, k)\n",
    "        for i in range(k+1, m):\n",
    "            factor = A[i][k]/A[k][k]\n",
    "            b[i] = b[i] - factor*b[k]\n",
    "            for j in range(k, n):\n",
    "                A[i][j] = A[i][j] - factor*A[k][j]"
   ]
  },
  {
   "cell_type": "markdown",
   "metadata": {},
   "source": [
    "**Main Solver Function:**"
   ]
  },
  {
   "cell_type": "code",
   "execution_count": 12,
   "metadata": {},
   "outputs": [],
   "source": [
    "def solve(A, b):\n",
    "    m = len(A)  # m is no. of rows (equivalent to no. of equation)\n",
    "    n = len(A[0])  # n is no. of columns (equivalent to no. of variable.)\n",
    "\n",
    "    if (m < n):\n",
    "        # We have less no. of equations than number of variable.\n",
    "        return \"Insufficient number of linearly independent equations, So there are infinite solutions\"\n",
    "    # Convert coefficient matrix to Row Echelon Form.\n",
    "    REF(A, b)\n",
    "    # now count the number rows in Row echelon form of coefficient matrix with all zero's element.\n",
    "    NumOfNonZerosRow = 0\n",
    "    for i in range(m):\n",
    "        for j in range(n):\n",
    "            cnt = 0  # no. of non zeros element in a row.\n",
    "            if (A[i][j] != 0):\n",
    "                cnt = 1\n",
    "                break\n",
    "        if (cnt == 1):  # there is atleast one non zero element in that row\n",
    "            NumOfNonZerosRow += 1\n",
    "            continue\n",
    "        if (cnt == 0):  # all element is zero\n",
    "            if (b[i] != 0):  # It means that\n",
    "                return \"Inconsistent system, Hence No Solution\"\n",
    "    # Num of non zeros row is the number of linearly independent equations in given system of equations\n",
    "    if (NumOfNonZerosRow < n):\n",
    "        return \"Insufficient number of linearly independent equations, So there are infinite solutions\"\n",
    "\n",
    "    # Note: Number of non zeros row can't be less than n provided(m>=n)\n",
    "\n",
    "    # Back Substitution.\n",
    "    if (NumOfNonZerosRow == n):\n",
    "        x = []  # x is final solution vector\n",
    "        x.clear()\n",
    "        for i in range(n):\n",
    "            x.append(0)\n",
    "        for row in range(n-1, -1, -1):\n",
    "            sum = 0\n",
    "            for col in range(row+1, n):\n",
    "                sum += A[row][col]*x[col]\n",
    "            x[row] = (b[row]-sum)/A[row][row]\n",
    "        return x\n"
   ]
  },
  {
   "cell_type": "markdown",
   "metadata": {},
   "source": [
    "**Solving system with 10 equations and 10 unknowns using own linear equation solver and numpy**"
   ]
  },
  {
   "cell_type": "code",
   "execution_count": 5,
   "metadata": {},
   "outputs": [
    {
     "name": "stdout",
     "output_type": "stream",
     "text": [
      "[-0.04455029381967422, 1.7031670005275132, -2.0249482111635655, 0.4260706958334694, -0.25113443556335974, -0.11016250119248548, 1.0491249232163775, 2.127535745814201, -0.4251309225397056, -1.4412357290422284]\n",
      "====================================================================================================\n",
      "Time taken for my solver function is 297 µs ± 15.3 µs per loop (mean ± std. dev. of 7 runs, 1,000 loops each)\n"
     ]
    }
   ],
   "source": [
    "# Test 5 randomly generated 10x10 matrix using solve() and numpy.linalg.solve()\n",
    "\n",
    "import numpy as np\n",
    "# np.random.seed(0)\n",
    "n = 10\n",
    "for _ in range(1):\n",
    "    A = np.random.rand(n, n)\n",
    "    b = np.random.rand(n)\n",
    "    # print(np.linalg.solve(A, b))\n",
    "    print(solve(A, b))\n",
    "    print(100*\"=\")\n",
    "\n",
    "\n",
    "print(f\"Time taken for my solver function is \", end=\"\")\n",
    "%timeit solve(A, b)\n",
    "# print(f\"Time taken for numpy.linalg.solve() function is \", end=\"\")\n",
    "# %timeit np.linalg.solve(A, b)\n"
   ]
  },
  {
   "cell_type": "markdown",
   "metadata": {},
   "source": [
    "As we can see time taken by my matrix solver is $257\\mu s$  but `numpy.linalg.solve()` is taking only $15.9\\mu s$. I think this much discrepency in time is due to the fact that most of the part of `numpy` is written in `C` language which is indeed much faster than `Python`"
   ]
  },
  {
   "cell_type": "markdown",
   "metadata": {
    "tags": []
   },
   "source": [
    "## Solving Electrical circuits"
   ]
  },
  {
   "cell_type": "markdown",
   "metadata": {},
   "source": [
    "**When only DC sources are present**"
   ]
  },
  {
   "cell_type": "code",
   "execution_count": 13,
   "metadata": {},
   "outputs": [],
   "source": [
    "def DC_MNA(content_of_netlist, start, end):\n",
    "    \n",
    "    st = set() # creating a list to count no. of nodes.\n",
    "    Nv = 0  #no. of voltage source\n",
    "    for line in content_of_netlist[start+1:end]:\n",
    "        if(len(line.split())==0): # when line is blank\n",
    "            continue\n",
    "        elif(line[0]=='#'): # when line is comment\n",
    "            continue\n",
    "        else:\n",
    "            st.add(line.split()[1])\n",
    "            st.add(line.split()[2])\n",
    "            if(line[0]=='V'):\n",
    "                Nv+=1\n",
    "    #Total no. of variables in circuit i.e size of conductance matrix.\n",
    "    # Nv = no. of voltage sources, n = no. of nodes\n",
    "    n = len(st)-1\n",
    "    size = Nv + n\n",
    "    A = [] # conductance matrix\n",
    "    B = [] \n",
    "    #initialising conductance matrix (A) and B vector.\n",
    "    for row in range(size):\n",
    "        lt = []\n",
    "        for col in range(size):\n",
    "            lt.append(0)\n",
    "        A.append(lt)\n",
    "        B.append(0)\n",
    "        a, b = 0, 0\n",
    "    for line in content_of_netlist[start+1:end]:\n",
    "        if(len(line.split())==0):\n",
    "            continue\n",
    "        discription = [word for word in line.split('#')[0].split()]\n",
    "        # Operations to store node number in a and b. \n",
    "        if(discription[1]=='GND'):\n",
    "            discription[1]='n0'\n",
    "        elif(discription[2]=='GND'):\n",
    "            discription[2]='n0'\n",
    "        a, b = discription[1], discription[2] # a and b store nodes information\n",
    "        if(a[0]=='n'): # when nodes are in form of n1, n2, .....\n",
    "            a = int(a[1:])\n",
    "        if(b[0]=='n'):\n",
    "             b = int(b[1:])\n",
    "        a, b = int(a), int(b)  # here finally a and b stores node number.\n",
    "\n",
    "        if(len(line.split())==0): # when line is blank\n",
    "            continue\n",
    "        elif(line[0]=='#'): # when line start with comment\n",
    "            continue\n",
    "        elif(line[0]=='R'):\n",
    "            R = float(discription[-1])\n",
    "            if(a==0 and b!=0):\n",
    "                A[b-1][b-1] += 1/R\n",
    "            elif(b==0 and a!=0):\n",
    "                A[a-1][a-1] += 1/R\n",
    "            else:\n",
    "                A[b-1][b-1] += 1/R\n",
    "                A[a-1][a-1] += 1/R\n",
    "                A[a-1][b-1] -= 1/R\n",
    "                A[b-1][a-1] -= 1/R\n",
    "            continue\n",
    "        elif(line[0]=='V'):\n",
    "            x = n + int(discription[0][1:])-1\n",
    "            B[x] = float(discription[-1]) # updating B vector with value of Voltage of source. \n",
    "            if(a==0 and b!=0):\n",
    "                A[x][b-1] = -1\n",
    "                A[b-1][x] = -1\n",
    "            elif(b==0 and a!=0):\n",
    "                A[x][a-1] = 1\n",
    "                A[a-1][x] = 1\n",
    "            else:\n",
    "                A[x][b-1] = -1\n",
    "                A[x][a-1] = 1\n",
    "                A[a-1][x] = 1\n",
    "                A[b-1][x] = -1\n",
    "            continue\n",
    "        elif(line[0]=='I'):\n",
    "            if(a==0 and b!=0):\n",
    "                B[b-1] += float(discription[-1])\n",
    "            elif(b==0 and a!=0):\n",
    "                B[a-1] -= float(discription[-1])\n",
    "            else:\n",
    "                B[a-1] -= float(discription[-1])\n",
    "                B[b-1] += float(discription[-1])\n",
    "            continue\n",
    "\n",
    "    x = solve(A,B)\n",
    "    for i in range(n):\n",
    "        print(f\"Node {i+1} Voltage = {x[i]} V\")\n",
    "    for i in range(Nv):\n",
    "        print(f\"Current through Voltage source V{i+1} = {x[n+i]} A\") \n",
    "    \n",
    "    return \"\""
   ]
  },
  {
   "cell_type": "markdown",
   "metadata": {},
   "source": [
    "**When only AC sources are present**"
   ]
  },
  {
   "cell_type": "code",
   "execution_count": 30,
   "metadata": {},
   "outputs": [],
   "source": [
    "from math import pi, sin, cos\n",
    "import cmath \n",
    "import time\n",
    "def AC_MNA(content_of_netlist, start, end):\n",
    "\n",
    "    freq = set()\n",
    "    f=0\n",
    "    for line in content_of_netlist[end+1:]:\n",
    "        if(line.split()[0]=='.ac'):\n",
    "            f = float(line.split()[2])\n",
    "            freq.add(line.split()[2]) #putting frequencies in set \"freq\"       \n",
    "        if(len(freq)>1):\n",
    "            return \"Circiut Contains more than one frequency source.\"\n",
    "    w = 2*pi*f\n",
    "    # Counting number of nodes and Voltage source.\n",
    "    st = set()\n",
    "    n = 0\n",
    "    Nv = 0\n",
    "    for line in content_of_netlist[start+1:end]:\n",
    "        if(len(line.split())==0): # when line is blank\n",
    "            continue\n",
    "        elif(line[0]=='#'): # when line is comment\n",
    "            continue\n",
    "        else:\n",
    "            st.add(line.split()[1])\n",
    "            st.add(line.split()[2])\n",
    "            if(line[0]=='V'):\n",
    "                Nv+=1\n",
    "    n = len(st)-1 # no. of nodes\n",
    "    size = n + Nv # size of conductance matrix.\n",
    "    A = [] # conductance matrix\n",
    "    B = [] \n",
    "    #initialising conductance matrix (A) and B vector.\n",
    "    for row in range(size):\n",
    "        lt = []\n",
    "        for col in range(size):\n",
    "            lt.append(0)\n",
    "        A.append(lt)\n",
    "        B.append(0)\n",
    "    a, b = 0, 0\n",
    "    for line in content_of_netlist[start+1:end]:\n",
    "        if(len(line.split())==0):\n",
    "            continue\n",
    "        discription = [word for word in line.split('#')[0].split()]\n",
    "        # Operations to store node number in a and b. \n",
    "        if(discription[1]=='GND'):\n",
    "            discription[1]='n0'\n",
    "        elif(discription[2]=='GND'):\n",
    "            discription[2]='n0'\n",
    "        a, b = discription[1], discription[2] # a and b store nodes information\n",
    "        if(a[0]=='n'): # when nodes are in form of n1, n2, .....\n",
    "            a = int(a[1:])\n",
    "        if(b[0]=='n'):\n",
    "             b = int(b[1:])\n",
    "        a, b = int(a), int(b)  # here finally a and b stores node number.\n",
    "\n",
    "        if(len(line.split())==0): # when line is blank\n",
    "            continue\n",
    "        elif(line[0]=='#'): # when line start with comment\n",
    "            continue\n",
    "\n",
    "        elif(line[0]=='R'):\n",
    "            if(a==0 and b!=0):\n",
    "                A[b-1][b-1] += 1/float(discription[-1])\n",
    "            elif(b==0 and a!=0):\n",
    "                A[a-1][a-1] += 1/float(discription[-1])\n",
    "            else:\n",
    "                A[b-1][b-1] += 1/float(discription[-1])\n",
    "                A[a-1][a-1] += 1/float(discription[-1])\n",
    "                A[a-1][b-1] -= 1/float(discription[-1])\n",
    "                A[b-1][a-1] -= 1/float(discription[-1])\n",
    "            continue\n",
    "        \n",
    "        elif(line[0]==\"L\"):\n",
    "            Z = complex(0, float(discription[-1])*w)\n",
    "\n",
    "            if(a==0 and b!=0):\n",
    "                A[b-1][b-1] += 1/Z\n",
    "            elif(b==0 and a!=0):\n",
    "                A[a-1][a-1] += 1/Z\n",
    "            else:\n",
    "                A[b-1][b-1] += 1/Z\n",
    "                A[a-1][a-1] += 1/Z\n",
    "                A[a-1][b-1] -= 1/Z\n",
    "                A[b-1][a-1] -= 1/Z\n",
    "            continue\n",
    "        elif(line[0]==\"C\"):\n",
    "            Z = complex(0, 1/(float(discription[-1])*w))\n",
    "\n",
    "            if(a==0 and b!=0):\n",
    "                A[b-1][b-1] += 1/Z\n",
    "            elif(b==0 and a!=0):\n",
    "                A[a-1][a-1] += 1/Z\n",
    "            else:\n",
    "                A[b-1][b-1] += 1/Z\n",
    "                A[a-1][a-1] += 1/Z\n",
    "                A[a-1][b-1] -= 1/Z\n",
    "                A[b-1][a-1] -= 1/Z\n",
    "            continue\n",
    "        elif(line[0]=='V'):\n",
    "            x = n + int(discription[0][1:])-1\n",
    "            V_mag = float(discription[-2])\n",
    "            phase = float(discription[-1])\n",
    "            B[x] = complex(V_mag*cos(phase*(pi/180)), V_mag*sin(phase*(pi/180))) # updating B vector with value of Voltage of source. \n",
    "            if(a==0 and b!=0):\n",
    "                A[x][b-1] = -1\n",
    "                A[b-1][x] = -1\n",
    "            elif(b==0 and a!=0):\n",
    "                A[x][a-1] = 1\n",
    "                A[a-1][x] = 1\n",
    "            else:\n",
    "                A[x][b-1] = -1\n",
    "                A[x][a-1] = 1\n",
    "                A[a-1][x] = 1\n",
    "                A[b-1][x] = -1\n",
    "            continue\n",
    "        elif(line[0]=='I'):\n",
    "            I_mag = float(discription[-2])\n",
    "            phase = float(discription[-1])\n",
    "            I =  complex(I_mag*cos(phase*(pi/180)), I_mag*sin(phase*(pi/180)))\n",
    "            if(a==0 and b!=0):\n",
    "                B[b-1] += I\n",
    "            elif(b==0 and a!=0):\n",
    "                B[a-1] -=I\n",
    "            else:\n",
    "                B[a-1] -=I\n",
    "                B[b-1] += I\n",
    "    x = solve(A, B)\n",
    "    for i in range(n):\n",
    "        print(f\"Node {i+1} Voltage : magnitude = {abs(x[i])} V, phase = {cmath.phase(x[i])*(180/pi)} degrees\")\n",
    "    for i in range(Nv):\n",
    "        print(f\"Current through Voltage source V{i+1} : magnitude = { abs(x[n+i])} A, phase =  {cmath.phase(x[n+i])*(180/pi)} degrees\")\n",
    "    return \"\"   "
   ]
  },
  {
   "cell_type": "markdown",
   "metadata": {},
   "source": [
    "### MNA matrix "
   ]
  },
  {
   "cell_type": "code",
   "execution_count": 31,
   "metadata": {},
   "outputs": [],
   "source": [
    "def Solve_Circuit(filename):\n",
    "    with open(filename, 'r') as netlist:\n",
    "        content_of_netlist = netlist.readlines()\n",
    "        start, end = 0, 0\n",
    "        for i in range(len(content_of_netlist)):\n",
    "            if(len(content_of_netlist[i].split())==0):\n",
    "                continue\n",
    "            if(content_of_netlist[i].split()[0] == '.circuit'):\n",
    "                start = i\n",
    "            elif(content_of_netlist[i].split()[0]=='.end'):\n",
    "                end = i\n",
    "        if(end < start):\n",
    "            return \"Invalid Circuit Declaration\"\n",
    "       #Check dc or ac source(s).\n",
    "        dc = False\n",
    "        ac = False\n",
    "        for lines in content_of_netlist:\n",
    "            if(lines[0]=='V' or lines[0]=='I'):\n",
    "                if(lines.split()[3]=='dc'):\n",
    "                    dc = True\n",
    "                elif(lines.split()[3]=='ac'):\n",
    "                    ac = True\n",
    "        if(ac and dc):\n",
    "            return \"Given circuit has more than one frequency.(since frequency of DC source is zero)\"\n",
    "        elif(dc==True):\n",
    "            return DC_MNA(content_of_netlist, start, end)\n",
    "        elif(ac==True):\n",
    "            return AC_MNA(content_of_netlist, start, end)\n"
   ]
  },
  {
   "cell_type": "markdown",
   "metadata": {},
   "source": [
    "### Output of Circuit"
   ]
  },
  {
   "cell_type": "code",
   "execution_count": 32,
   "metadata": {},
   "outputs": [
    {
     "name": "stdout",
     "output_type": "stream",
     "text": [
      "Node 1 Voltage : magnitude = 4.0 V, phase = 29.999999999999996 degrees\n",
      "Node 2 Voltage : magnitude = 6.000000000000001 V, phase = 59.99999999999999 degrees\n",
      "Node 3 Voltage : magnitude = 168.4333450781387 V, phase = 39.27476850443678 degrees\n",
      "Node 4 Voltage : magnitude = 91.96228125341496 V, phase = 158.0780671886268 degrees\n",
      "Node 5 Voltage : magnitude = 96.14432133702611 V, phase = 152.5410015060631 degrees\n",
      "Node 6 Voltage : magnitude = 8.9239583734777 V, phase = 38.33806605740891 degrees\n",
      "Node 7 Voltage : magnitude = 533.034650816758 V, phase = 21.99380938872583 degrees\n",
      "Current through Voltage source V1 : magnitude = 2.090577954005548 A, phase =  153.4094702189483 degrees\n",
      "Current through Voltage source V2 : magnitude = 5.1277700946880405 A, phase =  -118.8825666749316 degrees\n",
      "Current through Voltage source V3 : magnitude = 2.002684775001888 A, phase =  157.20350346613174 degrees\n",
      "Current through Voltage source V4 : magnitude = 20.250017332467316 A, phase =  21.54500746452838 degrees\n",
      "\n"
     ]
    }
   ],
   "source": [
    "t1 = time.time()\n",
    "print(Solve_Circuit('AC1.netlist'))\n",
    "t2 = time.time()"
   ]
  },
  {
   "cell_type": "code",
   "execution_count": 33,
   "metadata": {},
   "outputs": [
    {
     "name": "stdout",
     "output_type": "stream",
     "text": [
      "Time to sovle the circuit is 0.0019025802612304688\n"
     ]
    }
   ],
   "source": [
    "print(f\"Time to sovle the circuit is {t2-t1}\")"
   ]
  }
 ],
 "metadata": {
  "kernelspec": {
   "display_name": "Python 3 (ipykernel)",
   "language": "python",
   "name": "python3"
  },
  "language_info": {
   "codemirror_mode": {
    "name": "ipython",
    "version": 3
   },
   "file_extension": ".py",
   "mimetype": "text/x-python",
   "name": "python",
   "nbconvert_exporter": "python",
   "pygments_lexer": "ipython3",
   "version": "3.9.2"
  },
  "vscode": {
   "interpreter": {
    "hash": "0aba51b6ba95f134c5a8645113f62bd6be448b5c486c3d89db116c1b41c16ce3"
   }
  }
 },
 "nbformat": 4,
 "nbformat_minor": 4
}
