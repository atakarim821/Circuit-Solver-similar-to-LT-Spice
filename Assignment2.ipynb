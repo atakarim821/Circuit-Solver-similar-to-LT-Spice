{
 "cells": [
  {
   "cell_type": "markdown",
   "metadata": {},
   "source": [
    "# Factorial Computation"
   ]
  },
  {
   "cell_type": "markdown",
   "metadata": {},
   "source": [
    "I have used **two** methods for factorial computation:\n",
    "- **<u>Iterative<u>**\n",
    "    <br>In this method, I have created a list name `fact`, such `fact[n]` will store factorial of $n$. For each $n\\geq2$, I have appended the list   w      with $n\\times fact[n-1]$. \n",
    "    \n",
    "- **<u>Recursive<u>**\n",
    "    <br>In this approach, I used the recursive relation. In other words, to calculate $factorial(n)$, I return the $n \\times factorial(n-1)$. I have given the base condition to be $factorial(0)=1$ and $factorial(1)=1$"
   ]
  },
  {
   "cell_type": "code",
   "execution_count": 37,
   "metadata": {},
   "outputs": [
    {
     "name": "stdout",
     "output_type": "stream",
     "text": [
      "2.02 µs ± 38.9 ns per loop (mean ± std. dev. of 7 runs, 100,000 loops each)\n",
      "1.92 µs ± 85 ns per loop (mean ± std. dev. of 7 runs, 1,000,000 loops each)\n",
      "80.7 ns ± 1.34 ns per loop (mean ± std. dev. of 7 runs, 10,000,000 loops each)\n"
     ]
    }
   ],
   "source": [
    "import numpy as np\n",
    "def factorial(N):\n",
    "    fact = []\n",
    "    fact.append(1)\n",
    "    fact.append(1)\n",
    "    for i in range(2, N+1):\n",
    "        fact.append(i*fact[i-1])\n",
    "    return fact[N]\n",
    "\n",
    "def rec_fact(N):\n",
    "    if(N==1 or N==0):\n",
    "        return 1\n",
    "    else:\n",
    "        return N*rec_fact(N-1)\n",
    "\n",
    "%timeit rec_fact(20)\n",
    "%timeit factorial(20)\n",
    "%timeit np.math.factorial(10)"
   ]
  },
  {
   "cell_type": "markdown",
   "metadata": {},
   "source": [
    "# Solving System of Linear Equations\n",
    "In this problem, our aim is to find the solution of given set of linear equations."
   ]
  },
  {
   "cell_type": "markdown",
   "metadata": {},
   "source": [
    "**Pivoting Technique**"
   ]
  },
  {
   "cell_type": "code",
   "execution_count": 36,
   "metadata": {},
   "outputs": [],
   "source": [
    "def Partial_Pivot(A, b, k):\n",
    "    big = A[k][k]\n",
    "    index = k\n",
    "    for i in range(k+1, len(A)):\n",
    "        if (abs(A[i][k]) > abs(big)):\n",
    "            big = - A[i][k]\n",
    "            index = i\n",
    "    if (index != k):\n",
    "        # swap row number \"index\" with row number \"k\"\n",
    "        for i in range(k, len(A[0])):\n",
    "            temp = A[k][i]\n",
    "            A[k][i] = A[index][i]\n",
    "            A[index][i] = temp\n",
    "        # swap element of 'b' vector\n",
    "        temp = b[k]\n",
    "        b[k] = b[index]\n",
    "        b[index] = temp\n"
   ]
  },
  {
   "cell_type": "markdown",
   "metadata": {},
   "source": [
    "**Function to Convert given mxn matrix to Reduced Echelon Form (REF)**"
   ]
  },
  {
   "cell_type": "code",
   "execution_count": 34,
   "metadata": {},
   "outputs": [],
   "source": [
    "def REF(A, b):\n",
    "    m = len(A)  # m is no. of rows.\n",
    "    n = len(A[0])  # n is no. of columns.\n",
    "    for k in range(n):\n",
    "        # Pivoting the element.\n",
    "        Partial_Pivot(A, b, k)\n",
    "        for i in range(k+1, m):\n",
    "            factor = A[i][k]/A[k][k]\n",
    "            b[i] = b[i] - factor*b[k]\n",
    "            for j in range(k, n):\n",
    "                A[i][j] = A[i][j] - factor*A[k][j]"
   ]
  },
  {
   "cell_type": "markdown",
   "metadata": {},
   "source": [
    "**Main Solver Function:**"
   ]
  },
  {
   "cell_type": "code",
   "execution_count": 4,
   "metadata": {},
   "outputs": [],
   "source": [
    "def solve(A, b):\n",
    "    m = len(A)  # m is no. of rows (equivalent to no. of equation)\n",
    "    n = len(A[0])  # n is no. of columns (equivalent to no. of variable.)\n",
    "\n",
    "    if (m < n):\n",
    "        # We have less no. of equations than number of variable.\n",
    "        return \"Insufficient number of linearly independent equations, So there are infinite solutions\"\n",
    "    # Convert coefficient matrix to Row Echelon Form.\n",
    "    REF(A, b)\n",
    "    # now count the number rows in Row echelon form of coefficient matrix with all zero's element.\n",
    "    NumOfNonZerosRow = 0\n",
    "    for i in range(m):\n",
    "        for j in range(n):\n",
    "            cnt = 0  # no. of non zeros element in a row.\n",
    "            if (A[i][j] != 0):\n",
    "                cnt = 1\n",
    "                break\n",
    "        if (cnt == 1):  # there is atleast one non zero element in that row\n",
    "            NumOfNonZerosRow += 1\n",
    "            continue\n",
    "        if (cnt == 0):  # all element is zero\n",
    "            if (b[i] != 0):  # It means that\n",
    "                return \"Inconsistent system, Hence No Solution\"\n",
    "    # Num of non zeros row is the number of linearly independent equations in given system of equations\n",
    "    if (NumOfNonZerosRow < n):\n",
    "        return \"Insufficient number of linearly independent equations, So there are infinite solutions\"\n",
    "\n",
    "    # Note: Number of non zeros row can't be less than n provided(m>=n)\n",
    "\n",
    "    # Back Substitution.\n",
    "    if (NumOfNonZerosRow == n):\n",
    "        x = []  # x is final solution vector\n",
    "        x.clear()\n",
    "        for i in range(n):\n",
    "            x.append(0)\n",
    "        for row in range(n-1, -1, -1):\n",
    "            sum = 0\n",
    "            for col in range(row+1, n):\n",
    "                sum += A[row][col]*x[col]\n",
    "            x[row] = (b[row]-sum)/A[row][row]\n",
    "        return x\n"
   ]
  },
  {
   "cell_type": "markdown",
   "metadata": {},
   "source": [
    "**Solving system with 10 equations and 10 unknowns using own linear equation solver and numpy**"
   ]
  },
  {
   "cell_type": "code",
   "execution_count": 33,
   "metadata": {},
   "outputs": [
    {
     "name": "stdout",
     "output_type": "stream",
     "text": [
      "[ 2.89885842 -0.4785833  -0.47526755 -1.19773257 -1.68907064 -0.45485954\n",
      "  1.21197607 -1.71776273  1.40998669  1.31718901]\n",
      "[2.8988584209161723, -0.47858330194500065, -0.47526755353471484, -1.197732568854598, -1.6890706428424125, -0.45485954119330585, 1.2119760675203488, -1.717762725161453, 1.4099866934702776, 1.317189014870706]\n",
      "====================================================================================================\n",
      "Time taken for my solver function is 257 µs ± 4.95 µs per loop (mean ± std. dev. of 7 runs, 1,000 loops each)\n",
      "Time taken for numpy.linalg.solve() function is 15.9 µs ± 133 ns per loop (mean ± std. dev. of 7 runs, 100,000 loops each)\n"
     ]
    }
   ],
   "source": [
    "# Test 5 randomly generated 10x10 matrix using solve() and numpy.linalg.solve()\n",
    "\n",
    "import numpy as np\n",
    "# np.random.seed(0)\n",
    "n = 10\n",
    "for _ in range(1):\n",
    "    A = np.random.rand(n, n)\n",
    "    b = np.random.rand(n)\n",
    "    print(np.linalg.solve(A, b))\n",
    "    print(solve(A, b))\n",
    "    print(100*\"=\")\n",
    "\n",
    "\n",
    "print(f\"Time taken for my solver function is \", end=\"\")\n",
    "%timeit solve(A, b)\n",
    "print(f\"Time taken for numpy.linalg.solve() function is \", end=\"\")\n",
    "%timeit np.linalg.solve(A, b)\n"
   ]
  },
  {
   "cell_type": "markdown",
   "metadata": {},
   "source": [
    "As we can see time taken by my matrix solver is $257\\mu s$  but `numpy.linalg.solve()` is taking only $15.9\\mu s$. I think this much discrepency in time is due to the fact that most of the part of `numpy` is written in `C` language which is indeed much faster than `Python`"
   ]
  },
  {
   "cell_type": "markdown",
   "metadata": {
    "tags": []
   },
   "source": [
    "## Solving Electrical circuits"
   ]
  },
  {
   "cell_type": "markdown",
   "metadata": {},
   "source": [
    "**When only DC sources are present**"
   ]
  },
  {
   "cell_type": "code",
   "execution_count": 19,
   "metadata": {},
   "outputs": [],
   "source": [
    "def DC_MNA(content_of_netlist, start, end):\n",
    "    \n",
    "    st = set() # creating a list to count no. of nodes.\n",
    "    Nv = 0  #no. of voltage source\n",
    "    for line in content_of_netlist[start+1:end]:\n",
    "        if(len(line.split())==0): # when line is blank\n",
    "            continue\n",
    "        elif(line[0]=='#'): # when line is comment\n",
    "            continue\n",
    "        else:\n",
    "            st.add(line.split()[1])\n",
    "            st.add(line.split()[2])\n",
    "            if(line[0]=='V'):\n",
    "                Nv+=1\n",
    "    #Total no. of variables in circuit i.e size of conductance matrix.\n",
    "    # Nv = no. of voltage sources, n = no. of nodes\n",
    "    n = len(st)-1\n",
    "    size = Nv + n\n",
    "    A = [] # conductance matrix\n",
    "    B = [] \n",
    "    #initialising conductance matrix (A) and B vector.\n",
    "    for row in range(size):\n",
    "        lt = []\n",
    "        for col in range(size):\n",
    "            lt.append(0)\n",
    "        A.append(lt)\n",
    "        B.append(0)\n",
    "        a, b = 0, 0\n",
    "    for line in content_of_netlist[start+1:end]:\n",
    "        if(len(line.split())==0):\n",
    "            continue\n",
    "        discription = [word for word in line.split('#')[0].split()]\n",
    "        # Operations to store node number in a and b. \n",
    "        if(discription[1]=='GND'):\n",
    "            discription[1]='n0'\n",
    "        elif(discription[2]=='GND'):\n",
    "            discription[2]='n0'\n",
    "        a, b = discription[1], discription[2] # a and b store nodes information\n",
    "        if(a[0]=='n'): # when nodes are in form of n1, n2, .....\n",
    "            a = int(a[1:])\n",
    "        if(b[0]=='n'):\n",
    "             b = int(b[1:])\n",
    "        a, b = int(a), int(b)  # here finally a and b stores node number.\n",
    "\n",
    "        if(len(line.split())==0): # when line is blank\n",
    "            continue\n",
    "        elif(line[0]=='#'): # when line start with comment\n",
    "            continue\n",
    "        elif(line[0]=='R'):\n",
    "            R = float(discription[-1])\n",
    "            if(a==0 and b!=0):\n",
    "                A[b-1][b-1] += 1/R\n",
    "            elif(b==0 and a!=0):\n",
    "                A[a-1][a-1] += 1/R\n",
    "            else:\n",
    "                A[b-1][b-1] += 1/R\n",
    "                A[a-1][a-1] += 1/R\n",
    "                A[a-1][b-1] -= 1/R\n",
    "                A[b-1][a-1] -= 1/R\n",
    "            continue\n",
    "        elif(line[0]=='V'):\n",
    "            x = n + int(discription[0][1:])-1\n",
    "            B[x] = float(discription[-1]) # updating B vector with value of Voltage of source. \n",
    "            if(a==0 and b!=0):\n",
    "                A[x][b-1] = -1\n",
    "                A[b-1][x] = -1\n",
    "            elif(b==0 and a!=0):\n",
    "                A[x][a-1] = 1\n",
    "                A[a-1][x] = 1\n",
    "            else:\n",
    "                A[x][b-1] = -1\n",
    "                A[x][a-1] = 1\n",
    "                A[a-1][x] = 1\n",
    "                A[b-1][x] = -1\n",
    "            continue\n",
    "        elif(line[0]=='I'):\n",
    "            if(a==0 and b!=0):\n",
    "                B[b-1] += float(discription[-1])\n",
    "            elif(b==0 and a!=0):\n",
    "                B[a-1] -= float(discription[-1])\n",
    "            else:\n",
    "                B[a-1] -= float(discription[-1])\n",
    "                B[b-1] += float(discription[-1])\n",
    "            continue\n",
    "\n",
    "    x = solve(A,B)\n",
    "    for i in range(n):\n",
    "        print(f\"Node {i+1} Voltage = {x[i]} V\")\n",
    "    for i in range(Nv):\n",
    "        print(f\"Current through Voltage source V{i+1} = {x[n+i]} A\") \n",
    "    \n",
    "    return \"\""
   ]
  },
  {
   "cell_type": "markdown",
   "metadata": {},
   "source": [
    "**When only AC sources are present**"
   ]
  },
  {
   "cell_type": "code",
   "execution_count": 20,
   "metadata": {},
   "outputs": [],
   "source": [
    "from math import pi, sin, cos\n",
    "import cmath \n",
    "def AC_MNA(content_of_netlist, start, end):\n",
    "\n",
    "    freq = set()\n",
    "    f=0\n",
    "    for line in content_of_netlist[end+1:]:\n",
    "        if(line.split()[0]=='.ac'):\n",
    "            f = float(line.split()[2])\n",
    "            freq.add(line.split()[2]) #putting frequencies in set \"freq\"       \n",
    "        if(len(freq)>1):\n",
    "            return \"Circiut Contains more than one frequency source.\"\n",
    "    w = 2*pi*f\n",
    "    # Counting number of nodes and Voltage source.\n",
    "    st = set()\n",
    "    n = 0\n",
    "    Nv = 0\n",
    "    for line in content_of_netlist[start+1:end]:\n",
    "        if(len(line.split())==0): # when line is blank\n",
    "            continue\n",
    "        elif(line[0]=='#'): # when line is comment\n",
    "            continue\n",
    "        else:\n",
    "            st.add(line.split()[1])\n",
    "            st.add(line.split()[2])\n",
    "            if(line[0]=='V'):\n",
    "                Nv+=1\n",
    "    n = len(st)-1 # no. of nodes\n",
    "    size = n + Nv # size of conductance matrix.\n",
    "    A = [] # conductance matrix\n",
    "    B = [] \n",
    "    #initialising conductance matrix (A) and B vector.\n",
    "    for row in range(size):\n",
    "        lt = []\n",
    "        for col in range(size):\n",
    "            lt.append(0)\n",
    "        A.append(lt)\n",
    "        B.append(0)\n",
    "    a, b = 0, 0\n",
    "    for line in content_of_netlist[start+1:end]:\n",
    "        if(len(line.split())==0):\n",
    "            continue\n",
    "        discription = [word for word in line.split('#')[0].split()]\n",
    "        # Operations to store node number in a and b. \n",
    "        if(discription[1]=='GND'):\n",
    "            discription[1]='n0'\n",
    "        elif(discription[2]=='GND'):\n",
    "            discription[2]='n0'\n",
    "        a, b = discription[1], discription[2] # a and b store nodes information\n",
    "        if(a[0]=='n'): # when nodes are in form of n1, n2, .....\n",
    "            a = int(a[1:])\n",
    "        if(b[0]=='n'):\n",
    "             b = int(b[1:])\n",
    "        a, b = int(a), int(b)  # here finally a and b stores node number.\n",
    "\n",
    "        if(len(line.split())==0): # when line is blank\n",
    "            continue\n",
    "        elif(line[0]=='#'): # when line start with comment\n",
    "            continue\n",
    "\n",
    "        elif(line[0]=='R'):\n",
    "            if(a==0 and b!=0):\n",
    "                A[b-1][b-1] += 1/float(discription[-1])\n",
    "            elif(b==0 and a!=0):\n",
    "                A[a-1][a-1] += 1/float(discription[-1])\n",
    "            else:\n",
    "                A[b-1][b-1] += 1/float(discription[-1])\n",
    "                A[a-1][a-1] += 1/float(discription[-1])\n",
    "                A[a-1][b-1] -= 1/float(discription[-1])\n",
    "                A[b-1][a-1] -= 1/float(discription[-1])\n",
    "            continue\n",
    "        \n",
    "        elif(line[0]==\"L\"):\n",
    "            Z = complex(0, float(discription[-1])*w)\n",
    "\n",
    "            if(a==0 and b!=0):\n",
    "                A[b-1][b-1] += 1/Z\n",
    "            elif(b==0 and a!=0):\n",
    "                A[a-1][a-1] += 1/Z\n",
    "            else:\n",
    "                A[b-1][b-1] += 1/Z\n",
    "                A[a-1][a-1] += 1/Z\n",
    "                A[a-1][b-1] -= 1/Z\n",
    "                A[b-1][a-1] -= 1/Z\n",
    "            continue\n",
    "        elif(line[0]==\"C\"):\n",
    "            Z = complex(0, 1/(float(discription[-1])*w))\n",
    "\n",
    "            if(a==0 and b!=0):\n",
    "                A[b-1][b-1] += 1/Z\n",
    "            elif(b==0 and a!=0):\n",
    "                A[a-1][a-1] += 1/Z\n",
    "            else:\n",
    "                A[b-1][b-1] += 1/Z\n",
    "                A[a-1][a-1] += 1/Z\n",
    "                A[a-1][b-1] -= 1/Z\n",
    "                A[b-1][a-1] -= 1/Z\n",
    "            continue\n",
    "        elif(line[0]=='V'):\n",
    "            x = n + int(discription[0][1:])-1\n",
    "            V_mag = float(discription[-2])\n",
    "            phase = float(discription[-1])\n",
    "            B[x] = complex(V_mag*cos(phase*(pi/180)), V_mag*sin(phase*(pi/180))) # updating B vector with value of Voltage of source. \n",
    "            if(a==0 and b!=0):\n",
    "                A[x][b-1] = -1\n",
    "                A[b-1][x] = -1\n",
    "            elif(b==0 and a!=0):\n",
    "                A[x][a-1] = 1\n",
    "                A[a-1][x] = 1\n",
    "            else:\n",
    "                A[x][b-1] = -1\n",
    "                A[x][a-1] = 1\n",
    "                A[a-1][x] = 1\n",
    "                A[b-1][x] = -1\n",
    "            continue\n",
    "        elif(line[0]=='I'):\n",
    "            I_mag = float(discription[-2])\n",
    "            phase = float(discription[-1])\n",
    "            I =  complex(I_mag*cos(phase*(pi/180)), I_mag*sin(phase*(pi/180)))\n",
    "            if(a==0 and b!=0):\n",
    "                B[b-1] += I\n",
    "            elif(b==0 and a!=0):\n",
    "                B[a-1] -=I\n",
    "            else:\n",
    "                B[a-1] -=I\n",
    "                B[b-1] += I\n",
    "    \n",
    "    x = solve(A, B)\n",
    "    for i in range(n):\n",
    "        print(f\"Node {i+1} Voltage : magnitude = {abs(x[i])} V, phase = {cmath.phase(x[i])*(180/pi)} degrees\")\n",
    "    for i in range(Nv):\n",
    "        print(f\"Current through Voltage source V{i+1} : magnitude = { abs(x[n+i])} A, phase =  {cmath.phase(x[n+i])*(180/pi)} degrees\")\n",
    "\n",
    "    return \"\"   "
   ]
  },
  {
   "cell_type": "markdown",
   "metadata": {},
   "source": [
    "### MNA matrix "
   ]
  },
  {
   "cell_type": "code",
   "execution_count": 21,
   "metadata": {},
   "outputs": [],
   "source": [
    "def Solve_Circuit(filename):\n",
    "    with open(filename, 'r') as netlist:\n",
    "        content_of_netlist = netlist.readlines()\n",
    "        start, end = 0, 0\n",
    "        for i in range(len(content_of_netlist)):\n",
    "            if(len(content_of_netlist[i].split())==0):\n",
    "                continue\n",
    "            if(content_of_netlist[i].split()[0] == '.circuit'):\n",
    "                start = i\n",
    "            elif(content_of_netlist[i].split()[0]=='.end'):\n",
    "                end = i\n",
    "        if(end < start):\n",
    "            return \"Invalid Circuit Declaration\"\n",
    "       #Check dc or ac source(s).\n",
    "        dc = False\n",
    "        ac = False\n",
    "        for lines in content_of_netlist:\n",
    "            if(lines[0]=='V' or lines[0]=='I'):\n",
    "                if(lines.split()[3]=='dc'):\n",
    "                    dc = True\n",
    "                elif(lines.split()[3]=='ac'):\n",
    "                    ac = True\n",
    "        if(ac and dc):\n",
    "            return \"Given circuit has more than one frequency.(since frequency of DC source is zero)\"\n",
    "        elif(dc==True):\n",
    "            return DC_MNA(content_of_netlist, start, end)\n",
    "        elif(ac==True):\n",
    "            return AC_MNA(content_of_netlist, start, end)\n"
   ]
  },
  {
   "cell_type": "markdown",
   "metadata": {},
   "source": [
    "**Output of test cases uploaded on moodle**"
   ]
  },
  {
   "cell_type": "code",
   "execution_count": 22,
   "metadata": {},
   "outputs": [
    {
     "name": "stdout",
     "output_type": "stream",
     "text": [
      "Node 1 Voltage = 0.0 V\n",
      "Node 2 Voltage = 0.0 V\n",
      "Node 3 Voltage = 0.0 V\n",
      "Node 4 Voltage = -5.0 V\n",
      "Current through Voltage source V1 = -0.0005 A\n",
      "\n",
      "==============================\n",
      "Given circuit has more than one frequency.(since frequency of DC source is zero)\n",
      "==============================\n",
      "Node 1 Voltage = -10.0 V\n",
      "Node 2 Voltage = -5.029239766081871 V\n",
      "Node 3 Voltage = -2.5730994152046787 V\n",
      "Node 4 Voltage = -1.403508771929825 V\n",
      "Node 5 Voltage = -0.9356725146198834 V\n",
      "Current through Voltage source V1 = -0.004970760233918128 A\n",
      "\n",
      "==============================\n",
      "Node 1 Voltage = -10.0 V\n",
      "Node 2 Voltage = -5.555555555555556 V\n",
      "Node 3 Voltage = -3.7037037037037033 V\n",
      "Current through Voltage source V1 = -2.2222222222222214 A\n",
      "\n",
      "==============================\n",
      "Node 1 Voltage = -10.0 V\n",
      "Current through Voltage source V1 = -1.0 A\n",
      "\n",
      "==============================\n",
      "Node 1 Voltage : magnitude = 3.141592653524598e-05 V, phase = -90.00036911890652 degrees\n",
      "Node 2 Voltage : magnitude = 3.221170125068894e-05 V, phase = -90.00036911890652 degrees\n",
      "Node 3 Voltage : magnitude = 5.0 V, phase = -180.0 degrees\n",
      "Current through Voltage source V1 : magnitude = 0.00499999999989624 A, phase =  179.99963088109348 degrees\n",
      "\n",
      "==============================\n",
      "Node 1 Voltage : magnitude = 0.0007761154806732287 V, phase = 89.99999110637171 degrees\n",
      "\n"
     ]
    }
   ],
   "source": [
    "print(Solve_Circuit(\"ckt1.netlist\"))\n",
    "print(\"=\"*30)\n",
    "print(Solve_Circuit(\"ckt2.netlist\"))\n",
    "print(\"=\"*30)\n",
    "print(Solve_Circuit(\"ckt3.netlist\"))\n",
    "print(\"=\"*30)\n",
    "print(Solve_Circuit(\"ckt4.netlist\"))\n",
    "print(\"=\"*30)\n",
    "print(Solve_Circuit(\"ckt5.netlist\"))\n",
    "print(\"=\"*30)\n",
    "print(Solve_Circuit(\"ckt6.netlist\"))\n",
    "print(\"=\"*30)\n",
    "print(Solve_Circuit(\"ckt7.netlist\"))\n"
   ]
  },
  {
   "cell_type": "markdown",
   "metadata": {},
   "source": [
    "**Solution of my own circuit**"
   ]
  },
  {
   "cell_type": "code",
   "execution_count": 23,
   "metadata": {},
   "outputs": [
    {
     "name": "stdout",
     "output_type": "stream",
     "text": [
      "AC Source(s)\n",
      "===============================\n",
      "Node 1 Voltage : magnitude = 4.0 V, phase = 29.999999999999996 degrees\n",
      "Node 2 Voltage : magnitude = 6.000000000000001 V, phase = 59.99999999999999 degrees\n",
      "Node 3 Voltage : magnitude = 168.4333450781387 V, phase = 39.27476850443678 degrees\n",
      "Node 4 Voltage : magnitude = 91.96228125341496 V, phase = 158.0780671886268 degrees\n",
      "Node 5 Voltage : magnitude = 96.14432133702611 V, phase = 152.5410015060631 degrees\n",
      "Node 6 Voltage : magnitude = 8.9239583734777 V, phase = 38.33806605740891 degrees\n",
      "Node 7 Voltage : magnitude = 533.034650816758 V, phase = 21.99380938872583 degrees\n",
      "Current through Voltage source V1 : magnitude = 2.090577954005548 A, phase =  153.4094702189483 degrees\n",
      "Current through Voltage source V2 : magnitude = 5.1277700946880405 A, phase =  -118.8825666749316 degrees\n",
      "Current through Voltage source V3 : magnitude = 2.002684775001888 A, phase =  157.20350346613174 degrees\n",
      "Current through Voltage source V4 : magnitude = 20.250017332467316 A, phase =  21.54500746452838 degrees\n",
      "\n"
     ]
    }
   ],
   "source": [
    "print(\"AC Source(s)\\n===============================\")\n",
    "print(Solve_Circuit('AC1.netlist'))"
   ]
  },
  {
   "cell_type": "code",
   "execution_count": 24,
   "metadata": {},
   "outputs": [
    {
     "name": "stdout",
     "output_type": "stream",
     "text": [
      "DC circuit 1\n",
      "======================================\n",
      "Node 1 Voltage = 4.0 V\n",
      "Node 2 Voltage = 6.0 V\n",
      "Node 3 Voltage = 172.8461538461539 V\n",
      "Node 4 Voltage = -39.07692307692299 V\n",
      "Node 5 Voltage = -29.076923076922988 V\n",
      "Node 6 Voltage = 9.0 V\n",
      "Node 7 Voltage = 570.923076923077 V\n",
      "Current through Voltage source V1 = -0.6615384615384607 A\n",
      "Current through Voltage source V2 = -5.1 A\n",
      "Current through Voltage source V3 = -0.7615384615384607 A\n",
      "Current through Voltage source V4 = 20.76153846153846 A\n",
      "\n"
     ]
    }
   ],
   "source": [
    "print(\"DC circuit 1\\n======================================\")\n",
    "print(Solve_Circuit('DC1.netlist'))"
   ]
  },
  {
   "cell_type": "code",
   "execution_count": 25,
   "metadata": {},
   "outputs": [
    {
     "name": "stdout",
     "output_type": "stream",
     "text": [
      "DC circuit 2\n",
      "======================================\n",
      "Node 1 Voltage = 4.0 V\n",
      "Node 2 Voltage = 6.0 V\n",
      "Node 3 Voltage = 50.23061013443635 V\n",
      "Node 4 Voltage = 129.96173733195434 V\n",
      "Node 5 Voltage = 139.96173733195434 V\n",
      "Node 6 Voltage = 9.0 V\n",
      "Node 7 Voltage = 739.9617373319542 V\n",
      "Node 8 Voltage = -1870.0382626680455 V\n",
      "Node 9 Voltage = 34.0 V\n",
      "Current through Voltage source V1 = 3.425646328852118 A\n",
      "Current through Voltage source V2 = -5.1 A\n",
      "Current through Voltage source V3 = 3.325646328852118 A\n",
      "Current through Voltage source V4 = 16.67435367114788 A\n",
      "Current through Voltage source V5 = 0.706411582213029 A\n",
      "\n"
     ]
    }
   ],
   "source": [
    "print(\"DC circuit 2\\n======================================\")\n",
    "print(Solve_Circuit('DC2.netlist'))"
   ]
  }
 ],
 "metadata": {
  "kernelspec": {
   "display_name": "Python 3 (ipykernel)",
   "language": "python",
   "name": "python3"
  },
  "language_info": {
   "codemirror_mode": {
    "name": "ipython",
    "version": 3
   },
   "file_extension": ".py",
   "mimetype": "text/x-python",
   "name": "python",
   "nbconvert_exporter": "python",
   "pygments_lexer": "ipython3",
   "version": "3.9.2"
  },
  "vscode": {
   "interpreter": {
    "hash": "0aba51b6ba95f134c5a8645113f62bd6be448b5c486c3d89db116c1b41c16ce3"
   }
  }
 },
 "nbformat": 4,
 "nbformat_minor": 4
}
